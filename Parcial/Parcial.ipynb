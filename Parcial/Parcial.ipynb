{
 "cells": [
  {
   "cell_type": "code",
   "execution_count": 3,
   "id": "780fac0a",
   "metadata": {},
   "outputs": [],
   "source": [
    "\n",
    "import pandas as pd\n",
    "import numpy as np\n",
    "\n",
    "emicron = pd.read_csv('https://raw.githubusercontent.com/niconomist98/DataAnalyticsUQ/refs/heads/main/Datos/EMICRON/emicron_identificacion.csv', sep=',')"
   ]
  },
  {
   "cell_type": "code",
   "execution_count": 6,
   "id": "e0313cd7",
   "metadata": {},
   "outputs": [
    {
     "name": "stdout",
     "output_type": "stream",
     "text": [
      "Micronegocios Quindío (hombres 18-30): 1929.2189278824644\n"
     ]
    }
   ],
   "source": [
    "#numero 1\n",
    "quindio_hombres = emicron[\n",
    "    (emicron[\"COD_DEPTO\"] == 63) &\n",
    "    (emicron[\"P35\"] == 1) &\n",
    "    (emicron[\"P241\"].between(18, 30))\n",
    "]\n",
    "\n",
    "total_quindio_hombres = quindio_hombres[\"F_EXP\"].sum()\n",
    "print(\"Micronegocios Quindío (hombres 18-30):\", total_quindio_hombres)"
   ]
  },
  {
   "cell_type": "code",
   "execution_count": 7,
   "id": "8887da0e",
   "metadata": {},
   "outputs": [
    {
     "name": "stdout",
     "output_type": "stream",
     "text": [
      "Micronegocios Risaralda (mujeres 20-30, manufactura): 471.0362257898238\n"
     ]
    }
   ],
   "source": [
    "# numero 2\n",
    "risaralda_mujeres = emicron[\n",
    "    (emicron[\"COD_DEPTO\"] == 66) &\n",
    "    (emicron[\"P35\"] == 2) &\n",
    "    (emicron[\"P241\"].between(20, 30)) &\n",
    "    (emicron[\"GRUPOS12\"] == 3)  # manufactura\n",
    "]\n",
    "\n",
    "total_risaralda_mujeres = risaralda_mujeres[\"F_EXP\"].sum()\n",
    "print(\"Micronegocios Risaralda (mujeres 20-30, manufactura):\", total_risaralda_mujeres)\n"
   ]
  },
  {
   "cell_type": "code",
   "execution_count": 8,
   "id": "418f709d",
   "metadata": {},
   "outputs": [
    {
     "name": "stdout",
     "output_type": "stream",
     "text": [
      "Manizales: 2744\n",
      "Pereira: 3827\n",
      "Armenia: 2558\n",
      "La ciudad con más micronegocios es: Pereira\n"
     ]
    }
   ],
   "source": [
    "# numero 3\n",
    "manizales = emicron[\n",
    "    (emicron['AREA'] == 17) &       # Caldas (Manizales)\n",
    "    (emicron['GRUPOS12'] == 5) &      # comercio\n",
    "    (emicron['P35'] == 2) &              # mujeres\n",
    "    (emicron['P241'].between(40, 90))               # mayores de 40\n",
    "]\n",
    "\n",
    "pereira = emicron[\n",
    "    (emicron['AREA'] == 66) &       # Risaralda (Pereira)\n",
    "    (emicron['GRUPOS12'] == 5) &\n",
    "    (emicron['P35'] == 2) &\n",
    "    (emicron['P241'] > 40)\n",
    "]\n",
    "\n",
    "armenia = emicron[\n",
    "    (emicron['AREA'] == 63) &       # Quindío (Armenia)\n",
    "    (emicron['GRUPOS12'] == 5) &\n",
    "    (emicron['P35'] == 2) &\n",
    "    (emicron['P241'] > 40)\n",
    "]\n",
    "\n",
    "total_manizales = manizales[\"F_EXP\"].sum()\n",
    "total_pereira = pereira[\"F_EXP\"].sum()\n",
    "total_armenia = armenia[\"F_EXP\"].sum()\n",
    "\n",
    "print(f\"Manizales: {total_manizales:.0f}\")\n",
    "print(f\"Pereira: {total_pereira:.0f}\")\n",
    "print(f\"Armenia: {total_armenia:.0f}\")\n",
    "\n",
    "# Determinar cuál tiene más\n",
    "ciudades = {\n",
    "    'Manizales': total_manizales,\n",
    "    'Pereira': total_pereira,\n",
    "    'Armenia': total_armenia\n",
    "}\n",
    "\n",
    "ciudad_mayor = max(ciudades, key=ciudades.get)\n",
    "print(f\"La ciudad con más micronegocios es: {ciudad_mayor}\")"
   ]
  },
  {
   "cell_type": "code",
   "execution_count": 9,
   "id": "bbf59461",
   "metadata": {},
   "outputs": [
    {
     "name": "stdout",
     "output_type": "stream",
     "text": [
      "Micronegocios Armenia (hombres sin nombre comercial): 11603.133351270519\n"
     ]
    }
   ],
   "source": [
    "# Numero 4\n",
    "armenia_sin_nombre = emicron[\n",
    "    (emicron[\"AREA\"] == 63) &\n",
    "    (emicron[\"P35\"] == 1) &\n",
    "    (emicron[\"P3035\"] == 2)\n",
    "]\n",
    "\n",
    "total_armenia_sin_nombre = armenia_sin_nombre[\"F_EXP\"].sum()\n",
    "print(\"Micronegocios Armenia (hombres sin nombre comercial):\", total_armenia_sin_nombre)"
   ]
  }
 ],
 "metadata": {
  "kernelspec": {
   "display_name": "Python 3",
   "language": "python",
   "name": "python3"
  },
  "language_info": {
   "codemirror_mode": {
    "name": "ipython",
    "version": 3
   },
   "file_extension": ".py",
   "mimetype": "text/x-python",
   "name": "python",
   "nbconvert_exporter": "python",
   "pygments_lexer": "ipython3",
   "version": "3.12.1"
  }
 },
 "nbformat": 4,
 "nbformat_minor": 5
}
