{
 "cells": [
  {
   "cell_type": "code",
   "execution_count": 2,
   "id": "780fac0a",
   "metadata": {},
   "outputs": [],
   "source": [
    "\n",
    "import pandas as pd\n",
    "import numpy as np\n",
    "\n",
    "emicron = pd.read_csv('https://raw.githubusercontent.com/niconomist98/DataAnalyticsUQ/refs/heads/main/Datos/EMICRON/emicron_identificacion.csv', sep=',')"
   ]
  },
  {
   "cell_type": "code",
   "execution_count": 3,
   "id": "e0313cd7",
   "metadata": {},
   "outputs": [
    {
     "name": "stdout",
     "output_type": "stream",
     "text": [
      "Micronegocios Quindío (hombres 18-30): 1929.2189278824644\n"
     ]
    }
   ],
   "source": [
    "#numero 1\n",
    "quindio_hombres = emicron[\n",
    "    (emicron[\"COD_DEPTO\"] == 63) &\n",
    "    (emicron[\"P35\"] == 1) &\n",
    "    (emicron[\"P241\"].between(18, 30))\n",
    "]\n",
    "\n",
    "total_quindio_hombres = quindio_hombres[\"F_EXP\"].sum()\n",
    "print(\"Micronegocios Quindío (hombres 18-30):\", total_quindio_hombres)"
   ]
  },
  {
   "cell_type": "code",
   "execution_count": 4,
   "id": "8887da0e",
   "metadata": {},
   "outputs": [
    {
     "name": "stdout",
     "output_type": "stream",
     "text": [
      "Micronegocios Risaralda (mujeres 20-30, manufactura): 471.0362257898238\n"
     ]
    }
   ],
   "source": [
    "# numero 2\n",
    "risaralda_mujeres = emicron[\n",
    "    (emicron[\"COD_DEPTO\"] == 66) &\n",
    "    (emicron[\"P35\"] == 2) &\n",
    "    (emicron[\"P241\"].between(20, 30)) &\n",
    "    (emicron[\"GRUPOS12\"] == 3)  # manufactura\n",
    "]\n",
    "\n",
    "total_risaralda_mujeres = risaralda_mujeres[\"F_EXP\"].sum()\n",
    "print(\"Micronegocios Risaralda (mujeres 20-30, manufactura):\", total_risaralda_mujeres)\n"
   ]
  },
  {
   "cell_type": "code",
   "execution_count": 5,
   "id": "418f709d",
   "metadata": {},
   "outputs": [
    {
     "name": "stdout",
     "output_type": "stream",
     "text": [
      "Manizales: 2744\n",
      "Pereira: 3827\n",
      "Armenia: 2558\n",
      "La ciudad con más micronegocios es: Pereira\n"
     ]
    }
   ],
   "source": [
    "# numero 3\n",
    "manizales = emicron[\n",
    "    (emicron['AREA'] == 17) &       # Caldas (Manizales)\n",
    "    (emicron['GRUPOS12'] == 5) &      # comercio\n",
    "    (emicron['P35'] == 2) &              # mujeres\n",
    "    (emicron['P241'].between(40, 90))               # mayores de 40\n",
    "]\n",
    "\n",
    "pereira = emicron[\n",
    "    (emicron['AREA'] == 66) &       # Risaralda (Pereira)\n",
    "    (emicron['GRUPOS12'] == 5) &\n",
    "    (emicron['P35'] == 2) &\n",
    "    (emicron['P241'] > 40)\n",
    "]\n",
    "\n",
    "armenia = emicron[\n",
    "    (emicron['AREA'] == 63) &       # Quindío (Armenia)\n",
    "    (emicron['GRUPOS12'] == 5) &\n",
    "    (emicron['P35'] == 2) &\n",
    "    (emicron['P241'] > 40)\n",
    "]\n",
    "\n",
    "total_manizales = manizales[\"F_EXP\"].sum()\n",
    "total_pereira = pereira[\"F_EXP\"].sum()\n",
    "total_armenia = armenia[\"F_EXP\"].sum()\n",
    "\n",
    "print(f\"Manizales: {total_manizales:.0f}\")\n",
    "print(f\"Pereira: {total_pereira:.0f}\")\n",
    "print(f\"Armenia: {total_armenia:.0f}\")\n",
    "\n",
    "# Determinar cuál tiene más\n",
    "ciudades = {\n",
    "    'Manizales': total_manizales,\n",
    "    'Pereira': total_pereira,\n",
    "    'Armenia': total_armenia\n",
    "}\n",
    "\n",
    "ciudad_mayor = max(ciudades, key=ciudades.get)\n",
    "print(f\"La ciudad con más micronegocios es: {ciudad_mayor}\")"
   ]
  },
  {
   "cell_type": "code",
   "execution_count": 10,
   "id": "bbf59461",
   "metadata": {},
   "outputs": [
    {
     "name": "stdout",
     "output_type": "stream",
     "text": [
      "Micronegocios Armenia de hombres sin nombre comercial: 11603.133351270519\n"
     ]
    }
   ],
   "source": [
    "# Numero 4\n",
    "armenia_sin_nombre = emicron[\n",
    "    (emicron[\"AREA\"] == 63) &\n",
    "    (emicron[\"P35\"] == 1) &\n",
    "    (emicron[\"P3035\"] == 2)\n",
    "]\n",
    "\n",
    "total_armenia_sin_nombre = armenia_sin_nombre[\"F_EXP\"].sum()\n",
    "print(\"Micronegocios Armenia de hombres sin nombre comercial:\", total_armenia_sin_nombre)"
   ]
  },
  {
   "cell_type": "code",
   "execution_count": null,
   "id": "7c839902",
   "metadata": {},
   "outputs": [
    {
     "ename": "SyntaxError",
     "evalue": "unmatched '}' (1611071371.py, line 23)",
     "output_type": "error",
     "traceback": [
      "  \u001b[36mCell\u001b[39m\u001b[36m \u001b[39m\u001b[32mIn[13]\u001b[39m\u001b[32m, line 23\u001b[39m\n\u001b[31m    \u001b[39m\u001b[31m}\u001b[39m\n    ^\n\u001b[31mSyntaxError\u001b[39m\u001b[31m:\u001b[39m unmatched '}'\n"
     ]
    }
   ],
   "source": [
    "#1. ¿Cuántos micronegocios hay en el Quindío cuyos propietarios son hombres entre los 18 y 30 años?\n",
    "#Respuesta: Existen 1.929 micronegocios en esta categoría.\n",
    "#Esta cifra evidencia un nivel importante de emprendimiento juvenil masculino en el departamento, lo cual refleja la búsqueda de alternativas económicas frente a un mercado laboral limitado.\n",
    "\n",
    "#2. ¿Cuántos micronegocios de la industria manufacturera existen en Risaralda cuyas propietarias son mujeres entre los 20 y 30 años?\n",
    "#Respuesta: Se registran 471 micronegocios.\n",
    "#Aunque la cifra es menor en comparación con otros sectores, resulta relevante al mostrar la incursión de mujeres jóvenes en actividades productivas que requieren inversión de capital y conocimientos técnicos, aportando a la diversificación del aparato productivo regional.\n",
    "\n",
    "#3. Entre las ciudades de Manizales, Pereira y Armenia, ¿cuál tiene más micronegocios del sector comercio (03) cuyas propietarias son mujeres mayores de 40 años?\n",
    "#Respuesta:\n",
    "\n",
    "#Manizales: 2.744\n",
    "\n",
    "#Pereira: 3.827\n",
    "\n",
    "#Armenia: 2.558\n",
    "#La ciudad con más micronegocios es Pereira.\n",
    "#Pereira concentra la mayor cantidad de micronegocios de comercio liderados por mujeres mayores de 40 años, lo cual se relaciona con su papel como eje económico de la región cafetera y su capacidad de atraer mayor dinámica comercial.\n",
    "\n",
    "#4. En la ciudad de Armenia, ¿cuántos micronegocios cuyos propietarios son hombres no tienen nombre comercial?\n",
    "#Respuesta: Existen 11.603 micronegocios.\n",
    "#El elevado número de micronegocios sin nombre comercial en Armenia evidencia altos niveles de informalidad empresarial. Esto limita el acceso a beneficios de la formalización, como créditos, programas de apoyo estatal y mayor competitividad en el mercado."
   ]
  }
 ],
 "metadata": {
  "kernelspec": {
   "display_name": "Python 3",
   "language": "python",
   "name": "python3"
  },
  "language_info": {
   "codemirror_mode": {
    "name": "ipython",
    "version": 3
   },
   "file_extension": ".py",
   "mimetype": "text/x-python",
   "name": "python",
   "nbconvert_exporter": "python",
   "pygments_lexer": "ipython3",
   "version": "3.12.1"
  }
 },
 "nbformat": 4,
 "nbformat_minor": 5
}
