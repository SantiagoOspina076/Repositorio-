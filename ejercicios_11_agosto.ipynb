{
  "nbformat": 4,
  "nbformat_minor": 0,
  "metadata": {
    "colab": {
      "provenance": [],
      "authorship_tag": "ABX9TyNwC1VsM8Lo8aRedERt5liF",
      "include_colab_link": true
    },
    "kernelspec": {
      "name": "python3",
      "display_name": "Python 3"
    },
    "language_info": {
      "name": "python"
    }
  },
  "cells": [
    {
      "cell_type": "markdown",
      "metadata": {
        "id": "view-in-github",
        "colab_type": "text"
      },
      "source": [
        "<a href=\"https://colab.research.google.com/github/SantiagoOspina076/Repositorio-/blob/main/ultimo.ipynb\" target=\"_parent\"><img src=\"https://colab.research.google.com/assets/colab-badge.svg\" alt=\"Open In Colab\"/></a>"
      ]
    },
    {
      "cell_type": "code",
      "execution_count": 23,
      "metadata": {
        "id": "04FIUNjA9YLN",
        "colab": {
          "base_uri": "https://localhost:8080/"
        },
        "outputId": "aeeb1c1e-1165-4522-c72e-9f4f77f9f7d5"
      },
      "outputs": [
        {
          "output_type": "stream",
          "name": "stdout",
          "text": [
            "[1, 2, 3, 4, 5, 6, 7, 8]\n"
          ]
        }
      ],
      "source": [
        "lista = [1,2,3,4,5,6,7,8]\n",
        "print(lista)\n",
        "\n",
        "#primer ejercicio"
      ]
    },
    {
      "cell_type": "code",
      "source": [
        "#ejemplo de diccionario\n",
        "diccionario = {1: \"Erick\",\n",
        "               2: \"jhon\",\n",
        "               3: \"Alejandro\"}\n",
        "\n",
        "otro_diccionario = {1: [1,2,3,4,5],\n",
        "                    2: [5,6,7,8,9],\n",
        "                    3: {1:2,2:3}\n",
        "                    }\n",
        "diccionario_complejo = { 1 : [1,2,3,4,5,[5,6,7,8,9,[6,7,8]]],\n",
        "                        2: [5,6,7,8,9],\n",
        "                        3: {1:2,2:3,6:[9,10,'extraer este valor']}\n",
        "                      }"
      ],
      "metadata": {
        "id": "kSkUNRHSD49k"
      },
      "execution_count": 42,
      "outputs": []
    },
    {
      "cell_type": "code",
      "source": [
        "#se tiene que sacar de \"otro_diccionario\" en elemento 3, con la clave 2\n",
        "otro_diccionario[3][2]"
      ],
      "metadata": {
        "colab": {
          "base_uri": "https://localhost:8080/"
        },
        "id": "V2YC1BK_EfWP",
        "outputId": "e518427c-4ef9-4e75-a2f3-8ccb74337fce"
      },
      "execution_count": 37,
      "outputs": [
        {
          "output_type": "execute_result",
          "data": {
            "text/plain": [
              "3"
            ]
          },
          "metadata": {},
          "execution_count": 37
        }
      ]
    },
    {
      "cell_type": "code",
      "source": [
        "print(diccionario_complejo[3][6][2])\n",
        "\n",
        "diccionario_complejo[1][5][5][2]"
      ],
      "metadata": {
        "colab": {
          "base_uri": "https://localhost:8080/"
        },
        "id": "7LigdOgoH-kF",
        "outputId": "da8b98fd-9702-492c-e405-a7e002b69a8d"
      },
      "execution_count": 47,
      "outputs": [
        {
          "output_type": "stream",
          "name": "stdout",
          "text": [
            "extraer este valor\n"
          ]
        },
        {
          "output_type": "execute_result",
          "data": {
            "text/plain": [
              "8"
            ]
          },
          "metadata": {},
          "execution_count": 47
        }
      ]
    },
    {
      "cell_type": "code",
      "source": [
        "estudiantes = {\"santiago\":{\"edad\":18,\"semestre\":6},\n",
        "               \"nicolas\":{\"edad\":16,\"semestre\":4}\n",
        "               }\n",
        "\n",
        "if estudiantes [\"santiago\"][\"edad\"]>=18:\n",
        "  print(\"mayor de edad\")\n",
        "else:\n",
        "  print(\"menor de edad\")"
      ],
      "metadata": {
        "colab": {
          "base_uri": "https://localhost:8080/"
        },
        "id": "zZFn0YkrJivL",
        "outputId": "b18acc91-0701-4cf2-8834-9f065ff32667"
      },
      "execution_count": 53,
      "outputs": [
        {
          "output_type": "stream",
          "name": "stdout",
          "text": [
            "mayor de edad\n"
          ]
        }
      ]
    },
    {
      "cell_type": "code",
      "source": [
        "#Programa para ver si un estudiante Gano o perdio la materia\n",
        "#1. hacer un diccionario con 5 estudiantes\n",
        "#2. Por medio de condicionales saber si perdio o gano la materia y si puede habilitar\n",
        "\n",
        "nota = {\"santiago\":4.8,\n",
        "        \"juan\":1.8,\n",
        "        \"carlos\":1.5,\n",
        "        \"valentina\":2.5,\n",
        "        \"cristian\":2.9\n",
        "               }\n",
        "\n",
        "if nota [\"carlos\"] >= 3.0:\n",
        "  print(\"Gano la materia\")\n",
        "elif nota [\"carlos\"]>= 2.0:\n",
        "  print(\"Perdio la materia, pero puede habilitar\")\n",
        "else:\n",
        "  print(\"Perdio la materia, mas no puede habilitar\")"
      ],
      "metadata": {
        "colab": {
          "base_uri": "https://localhost:8080/"
        },
        "id": "cZMzcd5FPKI0",
        "outputId": "284a854b-1e0d-45c3-f548-dc06efa17bf9"
      },
      "execution_count": 62,
      "outputs": [
        {
          "output_type": "stream",
          "name": "stdout",
          "text": [
            "Perdio la materia, mas no puede habilitar\n"
          ]
        }
      ]
    }
  ]
}