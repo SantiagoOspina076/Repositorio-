{
  "nbformat": 4,
  "nbformat_minor": 0,
  "metadata": {
    "colab": {
      "provenance": [],
      "authorship_tag": "ABX9TyNsVLmeOJNsYTBCIYakjLwx",
      "include_colab_link": true
    },
    "kernelspec": {
      "name": "python3",
      "display_name": "Python 3"
    },
    "language_info": {
      "name": "python"
    }
  },
  "cells": [
    {
      "cell_type": "markdown",
      "metadata": {
        "id": "view-in-github",
        "colab_type": "text"
      },
      "source": [
        "<a href=\"https://colab.research.google.com/github/SantiagoOspina076/Repositorio-/blob/main/untitled11.ipynb\" target=\"_parent\"><img src=\"https://colab.research.google.com/assets/colab-badge.svg\" alt=\"Open In Colab\"/></a>"
      ]
    },
    {
      "cell_type": "code",
      "execution_count": 10,
      "metadata": {
        "id": "04FIUNjA9YLN"
      },
      "outputs": [],
      "source": [
        "lista=[1,2,3,4,\"all\",\"hope\",8,3.5]\n",
        "#primer ejercicio"
      ]
    },
    {
      "cell_type": "code",
      "source": [
        "#Actualizar cambios\n"
      ],
      "metadata": {
        "id": "_Z5QHohR93a0"
      },
      "execution_count": 13,
      "outputs": []
    }
  ]
}